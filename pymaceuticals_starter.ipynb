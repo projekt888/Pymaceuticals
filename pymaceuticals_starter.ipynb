{
 "cells": [
  {
   "cell_type": "markdown",
   "metadata": {},
   "source": [
    "## Observations and Insights (Eric Roberts)"
   ]
  },
  {
   "cell_type": "markdown",
   "metadata": {},
   "source": [
    "1.  Both Ramicane and Capomulin are promising treatments in that they reduce tumor size.  Capomulin reduces tumor size by 19%.  Ramicane does it by 22%.\n",
    "2.  Interestingly, these drugs are also the most studied.\n",
    "3.  The tumor volume and the mouse's weight are heavily correlated."
   ]
  },
  {
   "cell_type": "markdown",
   "metadata": {},
   "source": [
    "## Dependencies and starter code"
   ]
  },
  {
   "cell_type": "code",
   "execution_count": 1,
   "metadata": {},
   "outputs": [
    {
     "data": {
      "text/html": [
       "<div>\n",
       "<style scoped>\n",
       "    .dataframe tbody tr th:only-of-type {\n",
       "        vertical-align: middle;\n",
       "    }\n",
       "\n",
       "    .dataframe tbody tr th {\n",
       "        vertical-align: top;\n",
       "    }\n",
       "\n",
       "    .dataframe thead th {\n",
       "        text-align: right;\n",
       "    }\n",
       "</style>\n",
       "<table border=\"1\" class=\"dataframe\">\n",
       "  <thead>\n",
       "    <tr style=\"text-align: right;\">\n",
       "      <th></th>\n",
       "      <th>Mouse ID</th>\n",
       "      <th>Timepoint</th>\n",
       "      <th>Tumor Volume (mm3)</th>\n",
       "      <th>Metastatic Sites</th>\n",
       "      <th>Drug Regimen</th>\n",
       "      <th>Sex</th>\n",
       "      <th>Age_months</th>\n",
       "      <th>Weight (g)</th>\n",
       "    </tr>\n",
       "  </thead>\n",
       "  <tbody>\n",
       "    <tr>\n",
       "      <th>0</th>\n",
       "      <td>b128</td>\n",
       "      <td>0</td>\n",
       "      <td>45.0</td>\n",
       "      <td>0</td>\n",
       "      <td>Capomulin</td>\n",
       "      <td>Female</td>\n",
       "      <td>9</td>\n",
       "      <td>22</td>\n",
       "    </tr>\n",
       "    <tr>\n",
       "      <th>1</th>\n",
       "      <td>f932</td>\n",
       "      <td>0</td>\n",
       "      <td>45.0</td>\n",
       "      <td>0</td>\n",
       "      <td>Ketapril</td>\n",
       "      <td>Male</td>\n",
       "      <td>15</td>\n",
       "      <td>29</td>\n",
       "    </tr>\n",
       "    <tr>\n",
       "      <th>2</th>\n",
       "      <td>g107</td>\n",
       "      <td>0</td>\n",
       "      <td>45.0</td>\n",
       "      <td>0</td>\n",
       "      <td>Ketapril</td>\n",
       "      <td>Female</td>\n",
       "      <td>2</td>\n",
       "      <td>29</td>\n",
       "    </tr>\n",
       "    <tr>\n",
       "      <th>3</th>\n",
       "      <td>a457</td>\n",
       "      <td>0</td>\n",
       "      <td>45.0</td>\n",
       "      <td>0</td>\n",
       "      <td>Ketapril</td>\n",
       "      <td>Female</td>\n",
       "      <td>11</td>\n",
       "      <td>30</td>\n",
       "    </tr>\n",
       "    <tr>\n",
       "      <th>4</th>\n",
       "      <td>c819</td>\n",
       "      <td>0</td>\n",
       "      <td>45.0</td>\n",
       "      <td>0</td>\n",
       "      <td>Ketapril</td>\n",
       "      <td>Male</td>\n",
       "      <td>21</td>\n",
       "      <td>25</td>\n",
       "    </tr>\n",
       "  </tbody>\n",
       "</table>\n",
       "</div>"
      ],
      "text/plain": [
       "  Mouse ID  Timepoint  Tumor Volume (mm3)  Metastatic Sites Drug Regimen  \\\n",
       "0     b128          0                45.0                 0    Capomulin   \n",
       "1     f932          0                45.0                 0     Ketapril   \n",
       "2     g107          0                45.0                 0     Ketapril   \n",
       "3     a457          0                45.0                 0     Ketapril   \n",
       "4     c819          0                45.0                 0     Ketapril   \n",
       "\n",
       "      Sex  Age_months  Weight (g)  \n",
       "0  Female           9          22  \n",
       "1    Male          15          29  \n",
       "2  Female           2          29  \n",
       "3  Female          11          30  \n",
       "4    Male          21          25  "
      ]
     },
     "execution_count": 1,
     "metadata": {},
     "output_type": "execute_result"
    }
   ],
   "source": [
    "# Dependencies and Setup\n",
    "import matplotlib.pyplot as plt\n",
    "import pandas as pd\n",
    "import scipy.stats as st\n",
    "import numpy as np\n",
    "from scipy.stats import linregress\n",
    "\n",
    "\n",
    "# Study data files\n",
    "mouse_metadata = \"data/Mouse_metadata.csv\"\n",
    "study_results = \"data/Study_results.csv\"\n",
    "\n",
    "# Read the mouse data and the study results\n",
    "mouse_metadata = pd.read_csv(mouse_metadata)\n",
    "study_results = pd.read_csv(study_results)\n",
    "\n",
    "# Combine the data into a single dataset\n",
    "mc_db = pd.merge(study_results, mouse_metadata, how=\"left\", on=[\"Mouse ID\", \"Mouse ID\"])\n",
    "\n",
    "# Display the data table for preview\n",
    "mc_db.head()"
   ]
  },
  {
   "cell_type": "markdown",
   "metadata": {},
   "source": [
    "## Summary statistics"
   ]
  },
  {
   "cell_type": "code",
   "execution_count": 2,
   "metadata": {},
   "outputs": [
    {
     "data": {
      "text/html": [
       "<div>\n",
       "<style scoped>\n",
       "    .dataframe tbody tr th:only-of-type {\n",
       "        vertical-align: middle;\n",
       "    }\n",
       "\n",
       "    .dataframe tbody tr th {\n",
       "        vertical-align: top;\n",
       "    }\n",
       "\n",
       "    .dataframe thead th {\n",
       "        text-align: right;\n",
       "    }\n",
       "</style>\n",
       "<table border=\"1\" class=\"dataframe\">\n",
       "  <thead>\n",
       "    <tr style=\"text-align: right;\">\n",
       "      <th></th>\n",
       "      <th>Mean Tumor Volume (mm3)</th>\n",
       "      <th>Median Tumor Volume (mm3)</th>\n",
       "      <th>Variance Tumor Volume (mm3)</th>\n",
       "      <th>SEM Tumor Volume (mm3)</th>\n",
       "    </tr>\n",
       "    <tr>\n",
       "      <th>Drug Regimen</th>\n",
       "      <th></th>\n",
       "      <th></th>\n",
       "      <th></th>\n",
       "      <th></th>\n",
       "    </tr>\n",
       "  </thead>\n",
       "  <tbody>\n",
       "    <tr>\n",
       "      <th>Capomulin</th>\n",
       "      <td>40.675741</td>\n",
       "      <td>41.557809</td>\n",
       "      <td>24.947764</td>\n",
       "      <td>0.329346</td>\n",
       "    </tr>\n",
       "    <tr>\n",
       "      <th>Ceftamin</th>\n",
       "      <td>52.591172</td>\n",
       "      <td>51.776157</td>\n",
       "      <td>39.290177</td>\n",
       "      <td>0.469821</td>\n",
       "    </tr>\n",
       "    <tr>\n",
       "      <th>Infubinol</th>\n",
       "      <td>52.884795</td>\n",
       "      <td>51.820584</td>\n",
       "      <td>43.128684</td>\n",
       "      <td>0.492236</td>\n",
       "    </tr>\n",
       "    <tr>\n",
       "      <th>Ketapril</th>\n",
       "      <td>55.235638</td>\n",
       "      <td>53.698743</td>\n",
       "      <td>68.553577</td>\n",
       "      <td>0.603860</td>\n",
       "    </tr>\n",
       "    <tr>\n",
       "      <th>Naftisol</th>\n",
       "      <td>54.331565</td>\n",
       "      <td>52.509285</td>\n",
       "      <td>66.173479</td>\n",
       "      <td>0.596466</td>\n",
       "    </tr>\n",
       "    <tr>\n",
       "      <th>Placebo</th>\n",
       "      <td>54.033581</td>\n",
       "      <td>52.288934</td>\n",
       "      <td>61.168083</td>\n",
       "      <td>0.581331</td>\n",
       "    </tr>\n",
       "    <tr>\n",
       "      <th>Propriva</th>\n",
       "      <td>52.322552</td>\n",
       "      <td>50.854632</td>\n",
       "      <td>42.351070</td>\n",
       "      <td>0.512884</td>\n",
       "    </tr>\n",
       "    <tr>\n",
       "      <th>Ramicane</th>\n",
       "      <td>40.216745</td>\n",
       "      <td>40.673236</td>\n",
       "      <td>23.486704</td>\n",
       "      <td>0.320955</td>\n",
       "    </tr>\n",
       "    <tr>\n",
       "      <th>Stelasyn</th>\n",
       "      <td>54.233149</td>\n",
       "      <td>52.431737</td>\n",
       "      <td>59.450562</td>\n",
       "      <td>0.573111</td>\n",
       "    </tr>\n",
       "    <tr>\n",
       "      <th>Zoniferol</th>\n",
       "      <td>53.236507</td>\n",
       "      <td>51.818479</td>\n",
       "      <td>48.533355</td>\n",
       "      <td>0.516398</td>\n",
       "    </tr>\n",
       "  </tbody>\n",
       "</table>\n",
       "</div>"
      ],
      "text/plain": [
       "              Mean Tumor Volume (mm3)  Median Tumor Volume (mm3)  \\\n",
       "Drug Regimen                                                       \n",
       "Capomulin                   40.675741                  41.557809   \n",
       "Ceftamin                    52.591172                  51.776157   \n",
       "Infubinol                   52.884795                  51.820584   \n",
       "Ketapril                    55.235638                  53.698743   \n",
       "Naftisol                    54.331565                  52.509285   \n",
       "Placebo                     54.033581                  52.288934   \n",
       "Propriva                    52.322552                  50.854632   \n",
       "Ramicane                    40.216745                  40.673236   \n",
       "Stelasyn                    54.233149                  52.431737   \n",
       "Zoniferol                   53.236507                  51.818479   \n",
       "\n",
       "              Variance Tumor Volume (mm3)  SEM Tumor Volume (mm3)  \n",
       "Drug Regimen                                                       \n",
       "Capomulin                       24.947764                0.329346  \n",
       "Ceftamin                        39.290177                0.469821  \n",
       "Infubinol                       43.128684                0.492236  \n",
       "Ketapril                        68.553577                0.603860  \n",
       "Naftisol                        66.173479                0.596466  \n",
       "Placebo                         61.168083                0.581331  \n",
       "Propriva                        42.351070                0.512884  \n",
       "Ramicane                        23.486704                0.320955  \n",
       "Stelasyn                        59.450562                0.573111  \n",
       "Zoniferol                       48.533355                0.516398  "
      ]
     },
     "execution_count": 2,
     "metadata": {},
     "output_type": "execute_result"
    }
   ],
   "source": [
    "# Generate a summary statistics table of mean, median, variance, standard deviation, and SEM of the tumor volume for each regimen\n",
    "mca_db = mc_db.copy()\n",
    "mca_db = mca_db.groupby(['Drug Regimen'])\n",
    "gd = mca_db.mean()['Tumor Volume (mm3)']\n",
    "ge = mca_db.median()['Tumor Volume (mm3)']\n",
    "gf = mca_db.var()['Tumor Volume (mm3)']\n",
    "gg = mca_db.sem()['Tumor Volume (mm3)']\n",
    "gx_db = pd.merge(gd, ge, how=\"left\", on=[\"Drug Regimen\"])\n",
    "gy_db = pd.merge(gf, gg, how=\"left\", on=[\"Drug Regimen\"])\n",
    "gxx = pd.merge(gx_db, gy_db, how=\"left\", on=[\"Drug Regimen\"])\n",
    "\n",
    "gxx = gxx.rename(columns={\"Tumor Volume (mm3)_x_x\": \"Mean Tumor Volume (mm3)\", \"Tumor Volume (mm3)_y_x\": \"Median Tumor Volume (mm3)\",\"Tumor Volume (mm3)_x_y\": \"Variance Tumor Volume (mm3)\",\"Tumor Volume (mm3)_y_y\": \"SEM Tumor Volume (mm3)\"})\n",
    "gxx.head(20)\n"
   ]
  },
  {
   "cell_type": "markdown",
   "metadata": {},
   "source": [
    "## Bar plots"
   ]
  },
  {
   "cell_type": "code",
   "execution_count": 3,
   "metadata": {},
   "outputs": [],
   "source": [
    "bar_title = \"Data Points per Regimen\"\n",
    "x_label = \"Drug Regimen\"\n",
    "y_label = \"Data Points\""
   ]
  },
  {
   "cell_type": "code",
   "execution_count": 4,
   "metadata": {},
   "outputs": [
    {
     "data": {
      "text/plain": [
       "[Text(0, 0.5, 'Data Points'), Text(0.5, 0, 'Drug Regimen')]"
      ]
     },
     "execution_count": 4,
     "metadata": {},
     "output_type": "execute_result"
    },
    {
     "data": {
      "image/png": "[encoded data removed]",
      "text/plain": [
       "<Figure size 432x288 with 1 Axes>"
      ]
     },
     "metadata": {
      "needs_background": "light"
     },
     "output_type": "display_data"
    }
   ],
   "source": [
    "# Generate a bar plot showing number of data points for each treatment regimen using pandas\n",
    "mca_db = mc_db.copy()\n",
    "mca_db = mca_db.groupby(['Drug Regimen'])\n",
    "datas = mca_db.count()\n",
    "\n",
    "#let's just pick the first column, rename that and plot.\n",
    "column_name = datas.columns[0]\n",
    "datas = datas.rename(columns={column_name: 'Number of Data Points'})\n",
    "ax = datas.plot.bar(y='Number of Data Points',title=bar_title,legend=False, width = 0.75)\n",
    "ax.set(xlabel=x_label, ylabel=y_label)"
   ]
  },
  {
   "cell_type": "code",
   "execution_count": 5,
   "metadata": {},
   "outputs": [
    {
     "data": {
      "text/plain": [
       "Text(0, 0.5, 'Data Points')"
      ]
     },
     "execution_count": 5,
     "metadata": {},
     "output_type": "execute_result"
    },
    {
     "data": {
      "image/png": "[encoded data removed]",
      "text/plain": [
       "<Figure size 432x288 with 1 Axes>"
      ]
     },
     "metadata": {
      "needs_background": "light"
     },
     "output_type": "display_data"
    }
   ],
   "source": [
    "# Generate a bar plot showing number of data points for each treatment regimen using pyplot\n",
    "# https://pythonspot.com/matplotlib-bar-chart/\n",
    "x_axis = np.arange(len(datas.index))\n",
    "tick_locations = [value for value in x_axis]\n",
    "f, axe = plt.subplots()\n",
    "\n",
    "axe.bar(x_axis, datas['Number of Data Points'], width = 0.75)\n",
    "plt.xticks(tick_locations, datas.index, rotation=\"vertical\")\n",
    "\n",
    "axe.set_title(bar_title)\n",
    "axe.set_xlabel(x_label)\n",
    "axe.set_ylabel(y_label)"
   ]
  },
  {
   "cell_type": "markdown",
   "metadata": {},
   "source": [
    "## Pie plots"
   ]
  },
  {
   "cell_type": "code",
   "execution_count": 6,
   "metadata": {},
   "outputs": [],
   "source": [
    "pie_title = \"Gender of Mice among Samples\""
   ]
  },
  {
   "cell_type": "code",
   "execution_count": 14,
   "metadata": {},
   "outputs": [
    {
     "name": "stdout",
     "output_type": "stream",
     "text": [
      "0.4979919678714859\n"
     ]
    }
   ],
   "source": [
    "\n",
    "\n",
    "\n",
    "\n",
    "\n",
    "#mouse_metadata.head()\n",
    "print (124/(124+125))"
   ]
  },
  {
   "cell_type": "code",
   "execution_count": 15,
   "metadata": {},
   "outputs": [
    {
     "data": {
      "text/plain": [
       "[Text(0, 0.5, '')]"
      ]
     },
     "execution_count": 15,
     "metadata": {},
     "output_type": "execute_result"
    },
    {
     "data": {
      "image/png": "[encoded data removed]",
      "text/plain": [
       "<Figure size 432x288 with 1 Axes>"
      ]
     },
     "metadata": {},
     "output_type": "display_data"
    }
   ],
   "source": [
    "# Generate a pie plot showing the distribution of female versus male mice using pandas\n",
    "mcg_db = mouse_metadata.groupby(['Sex']) #\n",
    "datas = mcg_db.count()\n",
    "\n",
    "column_name = datas.columns[0]\n",
    "datas = datas.rename(columns={column_name: 'Number of Data Points'})\n",
    "ax = datas.plot.pie(y='Number of Data Points',autopct=\"%1.1f%%\",title = pie_title, legend=False, colors = [\"yellowgreen\", \"red\"])\n",
    "ax.set(ylabel=\"\")"
   ]
  },
  {
   "cell_type": "code",
   "execution_count": 16,
   "metadata": {},
   "outputs": [
    {
     "data": {
      "text/plain": [
       "Text(0.5, 1.0, 'Gender of Mice among Samples')"
      ]
     },
     "execution_count": 16,
     "metadata": {},
     "output_type": "execute_result"
    },
    {
     "data": {
      "image/png": "[encoded data removed]",
      "text/plain": [
       "<Figure size 432x288 with 1 Axes>"
      ]
     },
     "metadata": {},
     "output_type": "display_data"
    }
   ],
   "source": [
    "# Generate a pie plot showing the distribution of female versus male mice using pyplot\n",
    "# Labels for the sections of our pie chart\n",
    "labels = ['Male','Female']\n",
    "\n",
    "# The values of each section of the pie chart\n",
    "sizes = [datas.loc['Male']['Number of Data Points'], datas.loc['Female']['Number of Data Points']]\n",
    "\n",
    "plt.pie(sizes, labels=labels, autopct=\"%1.1f%%\",startangle=178, colors = [\"red\", \"yellowgreen\"])\n",
    "plt.title(pie_title)"
   ]
  },
  {
   "cell_type": "markdown",
   "metadata": {},
   "source": [
    "## Quartiles, outliers and boxplots"
   ]
  },
  {
   "cell_type": "code",
   "execution_count": 18,
   "metadata": {},
   "outputs": [
    {
     "data": {
      "text/html": [
       "<div>\n",
       "<style scoped>\n",
       "    .dataframe tbody tr th:only-of-type {\n",
       "        vertical-align: middle;\n",
       "    }\n",
       "\n",
       "    .dataframe tbody tr th {\n",
       "        vertical-align: top;\n",
       "    }\n",
       "\n",
       "    .dataframe thead th {\n",
       "        text-align: right;\n",
       "    }\n",
       "</style>\n",
       "<table border=\"1\" class=\"dataframe\">\n",
       "  <thead>\n",
       "    <tr style=\"text-align: right;\">\n",
       "      <th></th>\n",
       "      <th>Size</th>\n",
       "    </tr>\n",
       "    <tr>\n",
       "      <th>Drug Regimen</th>\n",
       "      <th></th>\n",
       "    </tr>\n",
       "  </thead>\n",
       "  <tbody>\n",
       "    <tr>\n",
       "      <th>Ramicane</th>\n",
       "      <td>34.955595</td>\n",
       "    </tr>\n",
       "    <tr>\n",
       "      <th>Capomulin</th>\n",
       "      <td>36.236114</td>\n",
       "    </tr>\n",
       "    <tr>\n",
       "      <th>Ceftamin</th>\n",
       "      <td>64.132421</td>\n",
       "    </tr>\n",
       "    <tr>\n",
       "      <th>Infubinol</th>\n",
       "      <td>65.755562</td>\n",
       "    </tr>\n",
       "  </tbody>\n",
       "</table>\n",
       "</div>"
      ],
      "text/plain": [
       "                   Size\n",
       "Drug Regimen           \n",
       "Ramicane      34.955595\n",
       "Capomulin     36.236114\n",
       "Ceftamin      64.132421\n",
       "Infubinol     65.755562"
      ]
     },
     "execution_count": 18,
     "metadata": {},
     "output_type": "execute_result"
    }
   ],
   "source": [
    "# Calculate the final tumor volume of each mouse across four of the most promising treatment regimens. \n",
    "# How do we find the \"most promising?\"  The one with the lowest mean tumors.\n",
    "top_x = 4\n",
    "mca_db = mc_db.copy()\n",
    "mca_db = mca_db.groupby(['Drug Regimen','Timepoint'])\n",
    "gd = mca_db.mean()\n",
    "\n",
    "drugs = gd.index.levels[0]\n",
    "timepoints = gd.index.levels[1]\n",
    "end_size = []\n",
    "\n",
    "#let's make a dataframe, a dictionary of lists.  make the list:\n",
    "for drug in drugs:\n",
    "    end_size.append(gd.loc[drug,timepoints.max()]['Tumor Volume (mm3)'])\n",
    "\n",
    "end = pd.DataFrame({\"Size\": end_size},index = drugs)\n",
    "end = end.sort_values(by=['Size'])\n",
    "\n",
    "most_promising =(end.index[0:top_x])\n",
    "end.head(4)"
   ]
  },
  {
   "cell_type": "code",
   "execution_count": 19,
   "metadata": {},
   "outputs": [],
   "source": [
    "#now we have the four most promising treatments, let's calculate the final tumor volume.  let's group by the drug and then the mouse.\n",
    "mcm_db = mc_db.copy()\n",
    "mcm_db = mcm_db.groupby(['Drug Regimen','Mouse ID']) #let's group by the drug and then the mouse.\n",
    "gm= mcm_db.max() #the maximum time.\n",
    "\n",
    "drug_data = [ gm.loc[drug]['Tumor Volume (mm3)'] for drug in most_promising ]"
   ]
  },
  {
   "cell_type": "code",
   "execution_count": 20,
   "metadata": {},
   "outputs": [
    {
     "data": {
      "image/png": "[encoded data removed]",
      "text/plain": [
       "<Figure size 432x288 with 1 Axes>"
      ]
     },
     "metadata": {
      "needs_background": "light"
     },
     "output_type": "display_data"
    }
   ],
   "source": [
    "fig2, ax2 = plt.subplots()\n",
    "ax2.set_title('Multiple Samples with Different Sizes')\n",
    "ax2.set_ylabel('Tumor Volume (mm3)')\n",
    "ax2.set_xlabel('Drug')\n",
    "\n",
    "ax2.boxplot(drug_data, showfliers=True,flierprops=dict(markerfacecolor='g', marker='D'))\n",
    "plt.xticks(np.arange(1, 5), most_promising)\n",
    "plt.show()\n",
    "#https://matplotlib.org/gallery/pyplots/boxplot_demo_pyplot.html#sphx-glr-gallery-pyplots-boxplot-demo-pyplot-py"
   ]
  },
  {
   "cell_type": "markdown",
   "metadata": {},
   "source": [
    "## Line and scatter plots"
   ]
  },
  {
   "cell_type": "code",
   "execution_count": 21,
   "metadata": {},
   "outputs": [
    {
     "data": {
      "text/plain": [
       "Text(0.5, 1.0, 'Tumor Change for Mouse g288')"
      ]
     },
     "execution_count": 21,
     "metadata": {},
     "output_type": "execute_result"
    },
    {
     "data": {
      "image/png": "[encoded data removed]",
      "text/plain": [
       "<Figure size 432x288 with 1 Axes>"
      ]
     },
     "metadata": {
      "needs_background": "light"
     },
     "output_type": "display_data"
    }
   ],
   "source": [
    "# Generate a line plot of time point versus tumor volume for *a mouse* treated with Capomulin\n",
    "# What mouse?  Some random mouse I guess.\n",
    "mice = mc_db.loc[mc_db['Drug Regimen'] == \"Capomulin\"]\n",
    "randomMouseID = mice.sample(1)['Mouse ID']\n",
    "mouse = mice.loc[mice[\"Mouse ID\"] == randomMouseID.values[0]]\n",
    "\n",
    "fig33, ax33 = plt.subplots()\n",
    "\n",
    "plt.plot(mouse['Timepoint'], mouse['Tumor Volume (mm3)'], marker = 'o',color='red', label=\"Tumor Volume (mm3)\")\n",
    "\n",
    "plt.legend(loc=\"upper right\")\n",
    "ax33.set_ylabel('Tumor Volume (mm3)')\n",
    "ax33.set_xlabel('Time (Days)')\n",
    "labeltext = 'Tumor Change for Mouse '\n",
    "labeltext += str(randomMouseID.values[0])\n",
    "ax33.set_title(label=labeltext)"
   ]
  },
  {
   "cell_type": "code",
   "execution_count": 22,
   "metadata": {},
   "outputs": [
    {
     "data": {
      "text/html": [
       "<div>\n",
       "<style scoped>\n",
       "    .dataframe tbody tr th:only-of-type {\n",
       "        vertical-align: middle;\n",
       "    }\n",
       "\n",
       "    .dataframe tbody tr th {\n",
       "        vertical-align: top;\n",
       "    }\n",
       "\n",
       "    .dataframe thead th {\n",
       "        text-align: right;\n",
       "    }\n",
       "</style>\n",
       "<table border=\"1\" class=\"dataframe\">\n",
       "  <thead>\n",
       "    <tr style=\"text-align: right;\">\n",
       "      <th></th>\n",
       "      <th>Mouse ID</th>\n",
       "      <th>Timepoint</th>\n",
       "      <th>Tumor Volume (mm3)</th>\n",
       "      <th>Metastatic Sites</th>\n",
       "      <th>Drug Regimen</th>\n",
       "      <th>Sex</th>\n",
       "      <th>Age_months</th>\n",
       "      <th>Weight (g)</th>\n",
       "    </tr>\n",
       "  </thead>\n",
       "  <tbody>\n",
       "    <tr>\n",
       "      <th>242</th>\n",
       "      <td>g288</td>\n",
       "      <td>0</td>\n",
       "      <td>45.000000</td>\n",
       "      <td>0</td>\n",
       "      <td>Capomulin</td>\n",
       "      <td>Male</td>\n",
       "      <td>3</td>\n",
       "      <td>19</td>\n",
       "    </tr>\n",
       "    <tr>\n",
       "      <th>474</th>\n",
       "      <td>g288</td>\n",
       "      <td>5</td>\n",
       "      <td>45.839400</td>\n",
       "      <td>0</td>\n",
       "      <td>Capomulin</td>\n",
       "      <td>Male</td>\n",
       "      <td>3</td>\n",
       "      <td>19</td>\n",
       "    </tr>\n",
       "    <tr>\n",
       "      <th>523</th>\n",
       "      <td>g288</td>\n",
       "      <td>10</td>\n",
       "      <td>46.304003</td>\n",
       "      <td>1</td>\n",
       "      <td>Capomulin</td>\n",
       "      <td>Male</td>\n",
       "      <td>3</td>\n",
       "      <td>19</td>\n",
       "    </tr>\n",
       "    <tr>\n",
       "      <th>727</th>\n",
       "      <td>g288</td>\n",
       "      <td>15</td>\n",
       "      <td>42.172301</td>\n",
       "      <td>1</td>\n",
       "      <td>Capomulin</td>\n",
       "      <td>Male</td>\n",
       "      <td>3</td>\n",
       "      <td>19</td>\n",
       "    </tr>\n",
       "    <tr>\n",
       "      <th>1083</th>\n",
       "      <td>g288</td>\n",
       "      <td>20</td>\n",
       "      <td>42.957120</td>\n",
       "      <td>1</td>\n",
       "      <td>Capomulin</td>\n",
       "      <td>Male</td>\n",
       "      <td>3</td>\n",
       "      <td>19</td>\n",
       "    </tr>\n",
       "  </tbody>\n",
       "</table>\n",
       "</div>"
      ],
      "text/plain": [
       "     Mouse ID  Timepoint  Tumor Volume (mm3)  Metastatic Sites Drug Regimen  \\\n",
       "242      g288          0           45.000000                 0    Capomulin   \n",
       "474      g288          5           45.839400                 0    Capomulin   \n",
       "523      g288         10           46.304003                 1    Capomulin   \n",
       "727      g288         15           42.172301                 1    Capomulin   \n",
       "1083     g288         20           42.957120                 1    Capomulin   \n",
       "\n",
       "       Sex  Age_months  Weight (g)  \n",
       "242   Male           3          19  \n",
       "474   Male           3          19  \n",
       "523   Male           3          19  \n",
       "727   Male           3          19  \n",
       "1083  Male           3          19  "
      ]
     },
     "execution_count": 22,
     "metadata": {},
     "output_type": "execute_result"
    }
   ],
   "source": [
    "mouse.head()"
   ]
  },
  {
   "cell_type": "code",
   "execution_count": 23,
   "metadata": {},
   "outputs": [
    {
     "data": {
      "text/html": [
       "<div>\n",
       "<style scoped>\n",
       "    .dataframe tbody tr th:only-of-type {\n",
       "        vertical-align: middle;\n",
       "    }\n",
       "\n",
       "    .dataframe tbody tr th {\n",
       "        vertical-align: top;\n",
       "    }\n",
       "\n",
       "    .dataframe thead th {\n",
       "        text-align: right;\n",
       "    }\n",
       "</style>\n",
       "<table border=\"1\" class=\"dataframe\">\n",
       "  <thead>\n",
       "    <tr style=\"text-align: right;\">\n",
       "      <th></th>\n",
       "      <th>Capomulin</th>\n",
       "      <th>Ceftamin</th>\n",
       "      <th>Infubinol</th>\n",
       "      <th>Ketapril</th>\n",
       "      <th>Naftisol</th>\n",
       "      <th>Placebo</th>\n",
       "      <th>Propriva</th>\n",
       "      <th>Ramicane</th>\n",
       "      <th>Stelasyn</th>\n",
       "      <th>Zoniferol</th>\n",
       "    </tr>\n",
       "    <tr>\n",
       "      <th>Timepoint</th>\n",
       "      <th></th>\n",
       "      <th></th>\n",
       "      <th></th>\n",
       "      <th></th>\n",
       "      <th></th>\n",
       "      <th></th>\n",
       "      <th></th>\n",
       "      <th></th>\n",
       "      <th></th>\n",
       "      <th></th>\n",
       "    </tr>\n",
       "  </thead>\n",
       "  <tbody>\n",
       "    <tr>\n",
       "      <th>0</th>\n",
       "      <td>45.000000</td>\n",
       "      <td>45.000000</td>\n",
       "      <td>45.000000</td>\n",
       "      <td>45.000000</td>\n",
       "      <td>45.000000</td>\n",
       "      <td>45.000000</td>\n",
       "      <td>45.000000</td>\n",
       "      <td>45.000000</td>\n",
       "      <td>45.000000</td>\n",
       "      <td>45.000000</td>\n",
       "    </tr>\n",
       "    <tr>\n",
       "      <th>5</th>\n",
       "      <td>44.266087</td>\n",
       "      <td>46.503052</td>\n",
       "      <td>46.541248</td>\n",
       "      <td>47.389175</td>\n",
       "      <td>46.796097</td>\n",
       "      <td>47.125587</td>\n",
       "      <td>47.248966</td>\n",
       "      <td>43.944859</td>\n",
       "      <td>47.470829</td>\n",
       "      <td>46.851818</td>\n",
       "    </tr>\n",
       "    <tr>\n",
       "      <th>10</th>\n",
       "      <td>43.084290</td>\n",
       "      <td>48.285126</td>\n",
       "      <td>49.403908</td>\n",
       "      <td>49.582268</td>\n",
       "      <td>48.694210</td>\n",
       "      <td>49.423328</td>\n",
       "      <td>49.101540</td>\n",
       "      <td>42.531956</td>\n",
       "      <td>49.335369</td>\n",
       "      <td>48.689880</td>\n",
       "    </tr>\n",
       "    <tr>\n",
       "      <th>15</th>\n",
       "      <td>42.064316</td>\n",
       "      <td>50.094055</td>\n",
       "      <td>51.296398</td>\n",
       "      <td>52.399975</td>\n",
       "      <td>50.933018</td>\n",
       "      <td>51.359741</td>\n",
       "      <td>51.067318</td>\n",
       "      <td>41.495060</td>\n",
       "      <td>51.448025</td>\n",
       "      <td>50.779060</td>\n",
       "    </tr>\n",
       "    <tr>\n",
       "      <th>20</th>\n",
       "      <td>40.716324</td>\n",
       "      <td>52.157047</td>\n",
       "      <td>53.197689</td>\n",
       "      <td>54.920937</td>\n",
       "      <td>53.644089</td>\n",
       "      <td>54.364418</td>\n",
       "      <td>53.346737</td>\n",
       "      <td>40.238323</td>\n",
       "      <td>53.970081</td>\n",
       "      <td>53.170334</td>\n",
       "    </tr>\n",
       "  </tbody>\n",
       "</table>\n",
       "</div>"
      ],
      "text/plain": [
       "           Capomulin   Ceftamin  Infubinol   Ketapril   Naftisol    Placebo  \\\n",
       "Timepoint                                                                     \n",
       "0          45.000000  45.000000  45.000000  45.000000  45.000000  45.000000   \n",
       "5          44.266087  46.503052  46.541248  47.389175  46.796097  47.125587   \n",
       "10         43.084290  48.285126  49.403908  49.582268  48.694210  49.423328   \n",
       "15         42.064316  50.094055  51.296398  52.399975  50.933018  51.359741   \n",
       "20         40.716324  52.157047  53.197689  54.920937  53.644089  54.364418   \n",
       "\n",
       "            Propriva   Ramicane   Stelasyn  Zoniferol  \n",
       "Timepoint                                              \n",
       "0          45.000000  45.000000  45.000000  45.000000  \n",
       "5          47.248966  43.944859  47.470829  46.851818  \n",
       "10         49.101540  42.531956  49.335369  48.689880  \n",
       "15         51.067318  41.495060  51.448025  50.779060  \n",
       "20         53.346737  40.238323  53.970081  53.170334  "
      ]
     },
     "execution_count": 23,
     "metadata": {},
     "output_type": "execute_result"
    },
    {
     "data": {
      "image/png": "[encoded data removed]",
      "text/plain": [
       "<Figure size 432x288 with 1 Axes>"
      ]
     },
     "metadata": {
      "needs_background": "light"
     },
     "output_type": "display_data"
    }
   ],
   "source": [
    "#here's some data on the tumor volume across the dataset.\n",
    "mca_db = mc_db.copy()\n",
    "mca_db = mca_db.groupby(['Drug Regimen','Timepoint'])\n",
    "gd = mca_db.mean()\n",
    "\n",
    "#because, who cares\n",
    "del gd['Metastatic Sites']\n",
    "del gd['Age_months']\n",
    "del gd['Weight (g)']\n",
    "\n",
    "def minorMunge(ed, title):\n",
    "    drugs = ed.index.levels[0]\n",
    "    timepoints = ed.index.levels[1]\n",
    "    data = list(ed[title])\n",
    "\n",
    "    import array as arr\n",
    "    numbers_array = arr.array('f', data)\n",
    "    numbers_array[0:len(timepoints)]\n",
    "\n",
    "    df = pd.DataFrame()\n",
    "    indx = 0\n",
    "    endx = len(timepoints)\n",
    "    for drug in drugs:\n",
    "        df[drug] = numbers_array[indx:endx].tolist()\n",
    "        indx += len(timepoints)\n",
    "        endx += len(timepoints)\n",
    "\n",
    "    df[\"Timepoint\"] = timepoints\n",
    "    df.set_index(\"Timepoint\",inplace = True)\n",
    "    \n",
    "    return df\n",
    "\n",
    "import random\n",
    "def rc():\n",
    "    r = lambda: random.randint(0,255)\n",
    "    x = ('#%02X%02X%02X' % (r(),r(),r()))\n",
    "    return x\n",
    "\n",
    "df = minorMunge(gd,'Tumor Volume (mm3)')\n",
    "\n",
    "drugs = df.keys()\n",
    "\n",
    "colors = ['red','blue','black','green',rc(),rc(),rc(),rc(),rc(),rc()]\n",
    "markers = ['o','^','D','s','o','^','D','s','o','^']\n",
    "\n",
    "fig3, ax3 = plt.subplots()\n",
    "\n",
    "for i in range(10): #if you want just Capomulin, change range to range(1)\n",
    "    plt.plot(df.index, df[drugs[i]], marker = markers[i],color=colors[i], label=drugs[i] )\n",
    "\n",
    "plt.legend(loc=\"upper right\")\n",
    "ax3.set_ylabel('Mean Tumor Volume (mm3)')\n",
    "ax3.set_xlabel('Time (Days)')\n",
    "\n",
    "df.head()"
   ]
  },
  {
   "cell_type": "code",
   "execution_count": 24,
   "metadata": {},
   "outputs": [
    {
     "ename": "NameError",
     "evalue": "name 'capo' is not defined",
     "output_type": "error",
     "traceback": [
      "\u001b[1;31m---------------------------------------------------------------------------\u001b[0m",
      "\u001b[1;31mNameError\u001b[0m                                 Traceback (most recent call last)",
      "\u001b[1;32m<ipython-input-24-f8bbd0d647f2>\u001b[0m in \u001b[0;36m<module>\u001b[1;34m\u001b[0m\n\u001b[0;32m      1\u001b[0m \u001b[1;31m# Calculate the correlation coefficient and linear regression model for mouse weight and average tumor volume for the Capomulin regimen\u001b[0m\u001b[1;33m\u001b[0m\u001b[1;33m\u001b[0m\u001b[1;33m\u001b[0m\u001b[0m\n\u001b[0;32m      2\u001b[0m \u001b[1;33m\u001b[0m\u001b[0m\n\u001b[1;32m----> 3\u001b[1;33m \u001b[0mcorrelation\u001b[0m \u001b[1;33m=\u001b[0m \u001b[0mst\u001b[0m\u001b[1;33m.\u001b[0m\u001b[0mpearsonr\u001b[0m\u001b[1;33m(\u001b[0m\u001b[0mcapo\u001b[0m\u001b[1;33m[\u001b[0m\u001b[1;34m'Weight (g)'\u001b[0m\u001b[1;33m]\u001b[0m\u001b[1;33m,\u001b[0m\u001b[0mcapo\u001b[0m\u001b[1;33m[\u001b[0m\u001b[1;34m'Tumor Volume (mm3)'\u001b[0m\u001b[1;33m]\u001b[0m\u001b[1;33m)\u001b[0m\u001b[1;33m\u001b[0m\u001b[1;33m\u001b[0m\u001b[0m\n\u001b[0m\u001b[0;32m      4\u001b[0m \u001b[0mprint\u001b[0m\u001b[1;33m(\u001b[0m\u001b[1;34mf\"The correlation between both factors is {round(correlation[0],2)}\"\u001b[0m\u001b[1;33m)\u001b[0m\u001b[1;33m\u001b[0m\u001b[1;33m\u001b[0m\u001b[0m\n\u001b[0;32m      5\u001b[0m \u001b[1;33m\u001b[0m\u001b[0m\n",
      "\u001b[1;31mNameError\u001b[0m: name 'capo' is not defined"
     ]
    }
   ],
   "source": [
    "# Calculate the correlation coefficient and linear regression model for mouse weight and average tumor volume for the Capomulin regimen\n",
    "\n",
    "correlation = st.pearsonr(capo['Weight (g)'],capo['Tumor Volume (mm3)'])\n",
    "print(f\"The correlation between both factors is {round(correlation[0],2)}\")\n",
    "\n",
    "x_values = capo['Weight (g)']\n",
    "y_values = capo['Tumor Volume (mm3)']\n",
    "(slope, intercept, rvalue, pvalue, stderr) = linregress(x_values, y_values)\n",
    "regress_values = x_values * slope + intercept\n",
    "line_eq = \"y = \" + str(round(slope,2)) + \"x + \" + str(round(intercept,2))\n",
    "print (line_eq)\n",
    "\n",
    "capo['predict'] = 20.29 * capo['Weight (g)'] - 364.52\n",
    "\n",
    "plt.scatter(capo['Weight (g)'],capo['Tumor Volume (mm3)'])\n",
    "plt.plot(capo['Weight (g)'],capo['predict'],\"r-\")\n",
    "\n",
    "plt.show()\n"
   ]
  },
  {
   "cell_type": "code",
   "execution_count": 25,
   "metadata": {},
   "outputs": [
    {
     "data": {
      "image/png": "[encoded data removed]",
      "text/plain": [
       "<Figure size 1440x432 with 1 Axes>"
      ]
     },
     "metadata": {
      "needs_background": "light"
     },
     "output_type": "display_data"
    }
   ],
   "source": [
    "mcc_db = mc_db.copy()\n",
    "mcc_db = mcc_db.groupby(['Drug Regimen','Timepoint'])\n",
    "gd = mcc_db.mean()\n",
    "gd.head()\n",
    "\n",
    "timepoints = gd.index.levels[1]\n",
    "drugs = gd.index.levels[0]\n",
    "percchgdrug = {}\n",
    "\n",
    "for drug in drugs:\n",
    "    percent_change =  ((gd.loc[drug,timepoints.max()]['Tumor Volume (mm3)'] - gd.loc[drug,0]['Tumor Volume (mm3)']) / gd.loc[drug,0]['Tumor Volume (mm3)'])\n",
    "    percent_change = percent_change * 100\n",
    "    percchgdrug[drug] = percent_change\n",
    "    \n",
    "# Store all Relevant Percent Changes into a Tuple\n",
    "pc = []\n",
    "for d in percchgdrug:\n",
    "   pc.append(percchgdrug[d])\n",
    "\n",
    "cities = percchgdrug\n",
    "p = tuple(pc)\n",
    "\n",
    "colorbars = []\n",
    "for px in p:\n",
    "    if (px < 0):\n",
    "        colorbars.append(\"g\")\n",
    "    else:\n",
    "        colorbars.append(\"r\")\n",
    "        \n",
    "x_axis = np.arange(len(percchgdrug))\n",
    "\n",
    "fig4, ax4 = plt.subplots(figsize=(20,6))\n",
    "\n",
    "plt.grid(True)\n",
    "ax4.bar(x_axis, p, width = 1,color=colorbars, align=\"center\")\n",
    "ax4.set_title(label='Tumor Change Over 45 Day Treatment',fontsize=20)\n",
    "plt.xticks(x_axis, percchgdrug,fontsize=14)\n",
    "plt.yticks(np.arange(-20, 70, 20),fontsize=14)\n",
    "\n",
    "ax4.set_ylabel('% Tumor Volume Change',fontsize=14)\n",
    "\n",
    "i = 0\n",
    "height = 0\n",
    "labelcolor = \"\"\n",
    "fontsz = 15\n",
    "for px in p:\n",
    "    if (px < 0):\n",
    "        labelcolor = \"white\"\n",
    "        height = -8\n",
    "        fontsz = 20\n",
    "    else:\n",
    "        labelcolor = \"black\"\n",
    "        height = 1\n",
    "        fontsz = 15\n",
    "    ax4.text(i,height, \"{0:.0f}\".format(px)+\"%\", fontsize=fontsz, ha='center',color=labelcolor)\n",
    "    i=i+1\n"
   ]
  },
  {
   "cell_type": "code",
   "execution_count": null,
   "metadata": {},
   "outputs": [],
   "source": []
  }
 ],
 "metadata": {
  "anaconda-cloud": {},
  "kernelspec": {
   "display_name": "Python 3",
   "language": "python",
   "name": "python3"
  },
  "language_info": {
   "codemirror_mode": {
    "name": "ipython",
    "version": 3
   },
   "file_extension": ".py",
   "mimetype": "text/x-python",
   "name": "python",
   "nbconvert_exporter": "python",
   "pygments_lexer": "ipython3",
   "version": "3.7.3"
  }
 },
 "nbformat": 4,
 "nbformat_minor": 2
}
